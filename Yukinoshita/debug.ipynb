{
 "cells": [
  {
   "cell_type": "code",
   "execution_count": 32,
   "metadata": {},
   "outputs": [],
   "source": [
    "import numpy as np\n",
    "\n",
    "class DD:\n",
    "    \n",
    "    def __init__(self, name :str, karyuku :int=0, reisou :int=0, luck :int=0, lv :int=0) -> None:\n",
    "        self.__name = name.capitalize()\n",
    "        self.__karyuku = karyuku\n",
    "        self.__reisou = reisou\n",
    "        self.__luck = luck\n",
    "        self.__lv = lv\n",
    "        \n",
    "        \n",
    "        \n",
    "    def __repr__(self) -> str:\n",
    "        return f'Destroyer {self.__name}'\n",
    "        \n",
    "    @property\n",
    "    def karyuku(self) -> int:\n",
    "        return self.__karyuku\n",
    "    \n",
    "    @karyuku.setter\n",
    "    def karyuku(self, value :int) -> None:\n",
    "        self.__karyuku = value\n",
    "        \n",
    "    @property\n",
    "    def reisou(self) -> int:\n",
    "        return self.__reisou\n",
    "    \n",
    "    @reisou.setter\n",
    "    def reisou(self, value :int) -> None:\n",
    "        self.__reisou = value\n",
    "        \n",
    "    @property\n",
    "    def luck(self) -> int:\n",
    "        return self.__luck\n",
    "    \n",
    "    @luck.setter\n",
    "    def luck(self, value :int) -> None:\n",
    "        self.__luck = value\n",
    "        \n",
    "    @property\n",
    "    def lv(self) -> int:\n",
    "        return self.__lv\n",
    "    \n",
    "    @lv.setter\n",
    "    def lv(self, value :int) -> None:\n",
    "        self.__lv = value\n",
    "        \n",
    "    @property\n",
    "    def yasen(self) -> int:\n",
    "        return self.__karyuku + self.__reisou\n",
    "\n",
    "    @property\n",
    "    def ci(self) -> int:\n",
    "        if self.__luck > 50:\n",
    "            ci = 65 + np.sqrt(self.__luck - 50) + 0.8 * np.sqrt(self.__lv)\n",
    "        else:\n",
    "            ci = 15 + self.__luck + 0.75 * np.sqrt(self.__lv)\n",
    "        return int(ci)\n"
   ]
  },
  {
   "cell_type": "code",
   "execution_count": 33,
   "metadata": {},
   "outputs": [
    {
     "data": {
      "text/plain": [
       "81"
      ]
     },
     "execution_count": 33,
     "metadata": {},
     "output_type": "execute_result"
    }
   ],
   "source": [
    "shiranui = DD('shiranui')\n",
    "shiranui.karyuku = 64\n",
    "shiranui.reisou = 90\n",
    "shiranui.lv = 180\n",
    "shiranui.yasen\n",
    "shiranui.luck = 88\n",
    "shiranui.ci\n"
   ]
  }
 ],
 "metadata": {
  "kernelspec": {
   "display_name": "Python 3",
   "language": "python",
   "name": "python3"
  },
  "language_info": {
   "codemirror_mode": {
    "name": "ipython",
    "version": 3
   },
   "file_extension": ".py",
   "mimetype": "text/x-python",
   "name": "python",
   "nbconvert_exporter": "python",
   "pygments_lexer": "ipython3",
   "version": "3.10.11"
  }
 },
 "nbformat": 4,
 "nbformat_minor": 2
}
